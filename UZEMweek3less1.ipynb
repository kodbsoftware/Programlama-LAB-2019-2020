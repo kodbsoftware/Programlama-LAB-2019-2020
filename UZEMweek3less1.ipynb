{
 "cells": [
  {
   "cell_type": "code",
   "execution_count": 1,
   "metadata": {},
   "outputs": [
    {
     "data": {
      "text/latex": [
       "$\\displaystyle 10 t_{1} + 2$"
      ],
      "text/plain": [
       "10*t1 + 2"
      ]
     },
     "execution_count": 1,
     "metadata": {},
     "output_type": "execute_result"
    }
   ],
   "source": [
    "from sympy import Symbol,Limit\n",
    "t=Symbol('t')\n",
    "St=5*t**2 +2*t +8\n",
    "t1=Symbol('t1')\n",
    "delta_t=Symbol('delta_t')\n",
    "St1=St.subs({t:t1})#function S()  b\n",
    "St1_delta=St.subs({t:t1+delta_t}) #a\n",
    "Limit((St1_delta-St1)/delta_t,delta_t,0).doit()  #b-a/delta \n"
   ]
  },
  {
   "cell_type": "code",
   "execution_count": null,
   "metadata": {},
   "outputs": [],
   "source": []
  }
 ],
 "metadata": {
  "kernelspec": {
   "display_name": "Python 3",
   "language": "python",
   "name": "python3"
  },
  "language_info": {
   "codemirror_mode": {
    "name": "ipython",
    "version": 3
   },
   "file_extension": ".py",
   "mimetype": "text/x-python",
   "name": "python",
   "nbconvert_exporter": "python",
   "pygments_lexer": "ipython3",
   "version": "3.8.2"
  }
 },
 "nbformat": 4,
 "nbformat_minor": 4
}
