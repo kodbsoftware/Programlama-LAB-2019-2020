{
 "cells": [
  {
   "cell_type": "code",
   "execution_count": 1,
   "metadata": {},
   "outputs": [
    {
     "data": {
      "text/latex": [
       "$\\displaystyle \\frac{n!}{x! \\left(n - x\\right)!}$"
      ],
      "text/plain": [
       "factorial(n)/(factorial(x)*factorial(n - x))"
      ]
     },
     "execution_count": 1,
     "metadata": {},
     "output_type": "execute_result"
    }
   ],
   "source": [
    "import  sympy as sym\n",
    "from sympy import Symbol\n",
    "from sympy import pprint\n",
    "p=Symbol('p')\n",
    "x=Symbol('x')\n",
    "n=Symbol('n')\n",
    "my_f_3_part_0=sym.factorial(n)/(sym.factorial(x)*sym.factorial(n-x))\n",
    "my_f_3_part_0"
   ]
  },
  {
   "cell_type": "code",
   "execution_count": 2,
   "metadata": {},
   "outputs": [
    {
     "data": {
      "text/latex": [
       "$\\displaystyle p^{x}$"
      ],
      "text/plain": [
       "p**x"
      ]
     },
     "execution_count": 2,
     "metadata": {},
     "output_type": "execute_result"
    }
   ],
   "source": [
    "my_f_3_part_1=p**x\n",
    "my_f_3_part_1"
   ]
  },
  {
   "cell_type": "code",
   "execution_count": 3,
   "metadata": {},
   "outputs": [
    {
     "data": {
      "text/latex": [
       "$\\displaystyle \\left(1 - p\\right)^{n - x}$"
      ],
      "text/plain": [
       "(1 - p)**(n - x)"
      ]
     },
     "execution_count": 3,
     "metadata": {},
     "output_type": "execute_result"
    }
   ],
   "source": [
    "my_f_3_part_2=(1-p)**(n-x)\n",
    "my_f_3_part_2"
   ]
  },
  {
   "cell_type": "code",
   "execution_count": 4,
   "metadata": {},
   "outputs": [
    {
     "data": {
      "text/latex": [
       "$\\displaystyle \\frac{p^{x} \\left(1 - p\\right)^{n - x} n!}{x! \\left(n - x\\right)!}$"
      ],
      "text/plain": [
       "p**x*(1 - p)**(n - x)*factorial(n)/(factorial(x)*factorial(n - x))"
      ]
     },
     "execution_count": 4,
     "metadata": {},
     "output_type": "execute_result"
    }
   ],
   "source": [
    "my_f_3=my_f_3_part_0*my_f_3_part_1*my_f_3_part_2\n",
    "my_f_3"
   ]
  },
  {
   "cell_type": "code",
   "execution_count": 5,
   "metadata": {},
   "outputs": [
    {
     "name": "stderr",
     "output_type": "stream",
     "text": [
      "c:\\users\\onura\\appdata\\local\\programs\\python\\python38-32\\lib\\site-packages\\sympy\\plotting\\plot.py:1065: MatplotlibDeprecationWarning: \n",
      "The set_smart_bounds function was deprecated in Matplotlib 3.2 and will be removed two minor releases later.\n",
      "  self.ax[i].spines['left'].set_smart_bounds(True)\n",
      "c:\\users\\onura\\appdata\\local\\programs\\python\\python38-32\\lib\\site-packages\\sympy\\plotting\\plot.py:1066: MatplotlibDeprecationWarning: \n",
      "The set_smart_bounds function was deprecated in Matplotlib 3.2 and will be removed two minor releases later.\n",
      "  self.ax[i].spines['bottom'].set_smart_bounds(False)\n"
     ]
    },
    {
     "data": {
      "image/png": "[encoded data removed]",
      "text/plain": [
       "<Figure size 432x288 with 1 Axes>"
      ]
     },
     "metadata": {
      "needs_background": "light"
     },
     "output_type": "display_data"
    },
    {
     "data": {
      "text/plain": [
       "<sympy.plotting.plot.Plot at 0x5fbb778>"
      ]
     },
     "execution_count": 5,
     "metadata": {},
     "output_type": "execute_result"
    }
   ],
   "source": [
    "sym.plot(my_f_3.subs({p:0.5,n:50}),(x, 0 ,50),title='binomial distribution plot for n=50')"
   ]
  },
  {
   "cell_type": "code",
   "execution_count": null,
   "metadata": {},
   "outputs": [],
   "source": []
  }
 ],
 "metadata": {
  "kernelspec": {
   "display_name": "Python 3",
   "language": "python",
   "name": "python3"
  },
  "language_info": {
   "codemirror_mode": {
    "name": "ipython",
    "version": 3
   },
   "file_extension": ".py",
   "mimetype": "text/x-python",
   "name": "python",
   "nbconvert_exporter": "python",
   "pygments_lexer": "ipython3",
   "version": "3.8.2"
  }
 },
 "nbformat": 4,
 "nbformat_minor": 4
}
